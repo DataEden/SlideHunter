{
 "cells": [
  {
   "cell_type": "markdown",
   "id": "a1600dd2",
   "metadata": {},
   "source": [
    "# 02 — Query Demo (Answer from Context + Citations)\n",
    "Ask a question like 'Where did we define precision vs. recall?' and get (deck, page) cites.\n",
    "\n",
    "## Load store & model (auto-CUDA on Deck)"
   ]
  },
  {
   "cell_type": "code",
   "execution_count": null,
   "id": "548942b7",
   "metadata": {},
   "outputs": [],
   "source": [
    "import os\n",
    "\n",
    "# Tell Hugging Face to skip TensorFlow/Flax so they never import TensorFlow (TF).\n",
    "os.environ[\"TRANSFORMERS_NO_TF\"] = \"1\"\n",
    "os.environ[\"TRANSFORMERS_NO_FLAX\"] = \"1\"\n",
    "\n",
    "# Quiet TF logs if something still pulls it in.\n",
    "os.environ[\"TF_CPP_MIN_LOG_LEVEL\"] = \"2\"  # 1=INFO, 2=WARNING, 3=ERROR\n"
   ]
  },
  {
   "cell_type": "markdown",
   "id": "612e86ac",
   "metadata": {},
   "source": [
    "## Search function"
   ]
  },
  {
   "cell_type": "markdown",
   "id": "98a35014",
   "metadata": {},
   "source": [
    "Save / reload FAISS index and all metadata so that later so we don't need re-embed.\n"
   ]
  },
  {
   "cell_type": "code",
   "execution_count": null,
   "id": "b4734c7f",
   "metadata": {},
   "outputs": [],
   "source": [
    "import json, os\n",
    "import faiss\n",
    "from pathlib import Path\n",
    "\n",
    "# make a directory  to store FAISS data.\n",
    "# exist_ok=True --> prevents it from crashing if it exists\n",
    "os.makedirs(\"data/faiss\", exist_ok=True)\n",
    "\n",
    "# Saves the FAISS index into a file. This is the vector store (embeddings) :)\n",
    "faiss.write_index(index, \"data/faiss/canvas.index\")\n",
    "\n",
    "# opens a JSON file to write in and puts in facts(the text chuncks we built earlier) and metas (the metadata)\n",
    "with open(\"data/faiss/facts.json\", \"w\", encoding=\"utf-8\") as f:\n",
    "    json.dump({\"facts\": facts, \"metas\": metas}, f, ensure_ascii=False) # Persistence: save / load FAISS store + metadata\n"
   ]
  },
  {
   "cell_type": "code",
   "execution_count": null,
   "id": "90167c80",
   "metadata": {},
   "outputs": [],
   "source": [
    "# Defining paths where the FAISS data will be located\n",
    "STORE_DIR  = f\"{BASE}/data/faiss\"\n",
    "INDEX_PATH = f\"{STORE_DIR}/canvas.index\"\n",
    "FACTS_PATH = f\"{STORE_DIR}/facts.json\"\n"
   ]
  },
  {
   "cell_type": "code",
   "execution_count": null,
   "id": "6cea7eef",
   "metadata": {},
   "outputs": [],
   "source": [
    "# makes sure the folder exits\n",
    "# saves the FAISS index and the facts/metadata\n",
    "# then prints a confirmation\n",
    "def save_store(index, facts, metas, store_dir=STORE_DIR):\n",
    "    Path(store_dir).mkdir(parents=True, exist_ok=True)\n",
    "    faiss.write_index(index, os.path.join(store_dir, \"canvas.index\"))\n",
    "    with open(os.path.join(store_dir, \"facts.json\"), \"w\", encoding=\"utf-8\") as f:\n",
    "        json.dump({\"facts\": facts, \"metas\": metas}, f, ensure_ascii=False)\n",
    "    print(\" saved:\", INDEX_PATH, \"and\", FACTS_PATH)\n",
    "\n",
    "\n",
    "\n",
    "# loads the vector index back into memory\n",
    "# opens the JSON file and loaads the facts and metadata\n",
    "# returns them to allow for querying without having to recompute the embeddings\n",
    "def load_store(store_dir=STORE_DIR):\n",
    "    idx = faiss.read_index(os.path.join(store_dir, \"canvas.index\"))\n",
    "    with open(os.path.join(store_dir, \"facts.json\"), \"r\", encoding=\"utf-8\") as f:\n",
    "        data = json.load(f)\n",
    "    print(\" loaded:\", os.path.join(store_dir, \"canvas.index\"), \"and facts.json\")\n",
    "    return idx, data[\"facts\"], data[\"metas\"]\n",
    "\n",
    "# This saves preceding index, facts, and metadata right after building\n",
    "#save_store(index, facts, metas)"
   ]
  },
  {
   "cell_type": "code",
   "execution_count": null,
   "id": "af1c703f",
   "metadata": {},
   "outputs": [],
   "source": [
    "\n",
    "# Reload in a fresh session--Refresh style\n",
    "# index, facts, metas = load_store()\n",
    "# route_emb = {k: model.encode([v], normalize_embeddings=True).astype(\"float32\") for k,v in ROUTE_DESC.items()}\n",
    "\n",
    "\n",
    "# We'll use this to reload:\n",
    "# index = faiss.read_index(\"data/faiss/canvas.index\")\n",
    "# facts_meta = json.load(open(\"data/faiss/facts.json\",\"r\",encoding=\"utf-8\"))\n",
    "# facts, metas = facts_meta[\"facts\"], facts_meta[\"metas\"]\n"
   ]
  }
 ],
 "metadata": {
  "kernelspec": {
   "display_name": "ds",
   "language": "python",
   "name": "python3"
  },
  "language_info": {
   "codemirror_mode": {
    "name": "ipython",
    "version": 3
   },
   "file_extension": ".py",
   "mimetype": "text/x-python",
   "name": "python",
   "nbconvert_exporter": "python",
   "pygments_lexer": "ipython3",
   "version": "3.12.9"
  }
 },
 "nbformat": 4,
 "nbformat_minor": 5
}

{
 "cells": [
  {
   "cell_type": "markdown",
   "id": "a1600dd2",
   "metadata": {},
   "source": [
    "# 02 — Query Demo (Answer from Context + Citations)\n",
    "Ask a question like 'Where did we define precision vs. recall?' and get (deck, page) cites.\n",
    "\n",
    "## Load store & model (auto-CUDA on Deck)"
   ]
  },
  {
   "cell_type": "code",
   "execution_count": null,
   "id": "548942b7",
   "metadata": {},
   "outputs": [],
   "source": [
    "import os\n",
    "\n",
    "# Tell Hugging Face to skip TensorFlow/Flax so they never import TensorFlow (TF).\n",
    "os.environ[\"TRANSFORMERS_NO_TF\"] = \"1\"\n",
    "os.environ[\"TRANSFORMERS_NO_FLAX\"] = \"1\"\n",
    "\n",
    "# Quiet TF logs if something still pulls it in.\n",
    "os.environ[\"TF_CPP_MIN_LOG_LEVEL\"] = \"2\"  # 1=INFO, 2=WARNING, 3=ERROR\n"
   ]
  },
  {
   "cell_type": "markdown",
   "id": "612e86ac",
   "metadata": {},
   "source": [
    "## Search function"
   ]
  },
  {
   "cell_type": "markdown",
   "id": "7858d451",
   "metadata": {},
   "source": [
    "## Quick demo"
   ]
  },
  {
   "cell_type": "code",
   "execution_count": null,
   "id": "b4734c7f",
   "metadata": {},
   "outputs": [],
   "source": []
  },
  {
   "cell_type": "code",
   "execution_count": null,
   "id": "90167c80",
   "metadata": {},
   "outputs": [],
   "source": []
  }
 ],
 "metadata": {
  "kernelspec": {
   "display_name": "ds",
   "language": "python",
   "name": "python3"
  },
  "language_info": {
   "codemirror_mode": {
    "name": "ipython",
    "version": 3
   },
   "file_extension": ".py",
   "mimetype": "text/x-python",
   "name": "python",
   "nbconvert_exporter": "python",
   "pygments_lexer": "ipython3",
   "version": "3.12.9"
  }
 },
 "nbformat": 4,
 "nbformat_minor": 5
}

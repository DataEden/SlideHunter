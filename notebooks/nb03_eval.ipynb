{
 "cells": [
  {
   "cell_type": "markdown",
   "id": "041097e2",
   "metadata": {},
   "source": [
    "# 03 — Tiny Evaluation\n",
    "Run a small test set (10–20 Qs) to sanity-check correctness and refusals.\n",
    "\n",
    "## Load store & model with auto-CUDA "
   ]
  },
  {
   "cell_type": "code",
   "execution_count": 15,
   "id": "a447d1a7",
   "metadata": {},
   "outputs": [],
   "source": [
    "from pathlib import Path\n",
    "import os, sys, json, faiss\n",
    "from importnb import Notebook\n",
    "from nb01_setup_and_ingest import *\n",
    "\n",
    "# Tell Hugging Face to skip TensorFlow/Flax so they never import TensorFlow (TF).\n",
    "os.environ[\"TRANSFORMERS_NO_TF\"] = \"1\"\n",
    "os.environ[\"TRANSFORMERS_NO_FLAX\"] = \"1\"\n",
    "\n",
    "# Quiet TF logs if something still pulls it in.\n",
    "os.environ[\"TF_CPP_MIN_LOG_LEVEL\"] = \"2\"  # 1=INFO, 2=WARNING, 3=ERROR\n"
   ]
  },
  {
   "cell_type": "code",
   "execution_count": 16,
   "id": "9d12ddff",
   "metadata": {},
   "outputs": [],
   "source": [
    "test_prompts = [\n",
    "    \"When does phase 2 begin?\",\n",
    "    \"Any way of saying June 9th?\",\n",
    "    \"Where can I find my instructor's email?\",\n",
    "    \"Under Course Team Contact Information?\",\n",
    "    \"What was the last TLAB about?\",\n",
    "    \"An explanation of making a music recommender.\",\n",
    "    \"What lecture slides do we review pivot tables?\",\n",
    "    \"What lecture slides did we learn about control flow?\",\n",
    "    \"Can you give me a bullet point list of the most important concepts covered about SQL?\",\n",
    "    \"I'd like to know when pahse 2 commences, so I can prepare, thanks!\",\n",
    "    \"Give me a summary of P2W2's material.\",\n",
    "    \"Where did we define precision vs. recall?\",\n",
    "    \"Explain the linear regression formula.\",\n",
    "    \"What are the steps for PCA?\",\n",
    "    \"What's the difference between an L1 and L2 penalty?\",\n",
    "    \"Where can I find information on?\",\n",
    "    \"So I want to know more about XGboost and its trade-offs with AdaBoost.\",\n",
    "    \"Which slides describe the bias-variance trade-off (summary + cite both pages)?\",\n",
    "    \"pls where did u all show that 'log loss' thing ??? and that \\\"slide w/ the blue curve comparing roc stuff—where?\\\"\",\n",
    "    \"Can I see other students grades??\"\n",
    "]"
   ]
  },
  {
   "cell_type": "markdown",
   "id": "504401c1",
   "metadata": {},
   "source": [
    "🧪 Evaluate a list of prompts (latency + scope + citation)"
   ]
  },
  {
   "cell_type": "code",
   "execution_count": 17,
   "id": "1938062e",
   "metadata": {},
   "outputs": [
    {
     "name": "stdout",
     "output_type": "stream",
     "text": [
      "                                                                                                           query     scope  latency_s  top_score top_domain                                                                                                                                                                                                                                   citation\n",
      "                                                                                        When does phase 2 begin?       all      0.089      0.476  technical                                                                                      IF '25 Data Science Cohort A › P2W12 (8/25 - 8/29) End of Phase Project Week › [TEPP] Phase 2 Portfolio Project Checkpoint #2 (Due 8/27) (Assignment)\n",
      "                                                                                     Any way of saying June 9th? technical      0.027      0.230  technical                                                                                 Foundations Course › Week 1: Foundations For Success (Jan. 27th-Jan. 30th) › (W1D1) After Class Assignment: Reflecting on Your Support System (Assignment)\n",
      "                                                                         Where can I find my instructor's email? technical      0.023      0.332  technical                                                                                 IF '25 Data Science Cohort A › Fellow Resources › Fellow Success Resources (Page) [https://tkh.instructure.com/courses/172/pages/fellow-success-resources]\n",
      "                                                                          Under Course Team Contact Information?       all      0.021      0.444  technical                                                                                          IF '25 Data Science Cohort A › Fellow Resources › Help Request Steps (Page) [https://tkh.instructure.com/courses/172/pages/help-request-template]\n",
      "                                                                                   What was the last TLAB about? technical      0.023      0.334  technical                                                                                                 IF '25 Data Science Cohort A › P2W9 (8/4-8/8) NLP Foundations & Transformers › [Mini TLAB] Music Recommendation Lab (Due 8/9) (Assignment)\n",
      "                                                                   An explanation of making a music recommender. technical      0.018      0.465  technical                                                                                                 IF '25 Data Science Cohort A › P2W9 (8/4-8/8) NLP Foundations & Transformers › [Mini TLAB] Music Recommendation Lab (Due 8/9) (Assignment)\n",
      "                                                                  What lecture slides do we review pivot tables? technical      0.012      0.563  technical       IF '25 Data Science Cohort A › P1W6 (4/14-4/18) Introduction to Data Analysis › 💻 W6D1 (4/14) Introduction to Data Analysis I (Page) [https://tkh.instructure.com/courses/172/pages/w6d1-4-slash-14-introduction-to-data-analysis-i]\n",
      "                                                            What lecture slides did we learn about control flow? technical      0.033      0.389  technical                                                 Foundations Course › Week 1: Foundations For Success (Jan. 27th-Jan. 30th) › W1D2: Learning How to Learn (Page) [https://tkh.instructure.com/courses/162/pages/w1d2-learning-how-to-learn]\n",
      "                           Can you give me a bullet point list of the most important concepts covered about SQL? technical      0.021      0.577  technical                                   IF '25 Data Science Cohort A › P1W9  (5/5-5/9) Introduction to Structured Databases › 📚 P1W9 Overview & Lesson Plan (Page) [https://tkh.instructure.com/courses/172/pages/p1w9-overview-and-lesson-plan]\n",
      "                                              I'd like to know when pahse 2 commences, so I can prepare, thanks!       all      0.019      0.361  technical                                    IF '25 Data Science Cohort A › P2W1 (6/9-6/13) Python & SQL Review › 💻 W1D1 (6/9) Introduction to Phase 2 (Page) [https://tkh.instructure.com/courses/172/pages/w1d1-6-slash-9-introduction-to-phase-2]\n",
      "                                                                           Give me a summary of P2W2's material.       all      0.023      0.518  technical                                                                                                          IF '25 Data Science Cohort A › P2W2 (6/16-6/20) Introduction to Machine Learning › [TQZ] P2W2 Pre-Class Content Quiz (Assignment)\n",
      "                                                                       Where did we define precision vs. recall? technical      0.019      0.382  technical IF '25 Data Science Cohort A › P2W3 (6/23-6/27) Classification Algorithms › 💻 W3D2 (6/24) Logistic Regression Accuracy Metrics (Page) [https://tkh.instructure.com/courses/172/pages/w3d2-6-slash-24-logistic-regression-accuracy-metrics]\n",
      "                                                                          Explain the linear regression formula.       all      0.027      0.472  technical              IF '25 Data Science Cohort A › P2W1 (6/9-6/13) Python & SQL Review › 💻 W1D4 (6/12) Introduction to Linear Regression (Page) [https://tkh.instructure.com/courses/172/pages/w1d4-6-slash-12-introduction-to-linear-regression]\n",
      "                                                                                     What are the steps for PCA?       all      0.021      0.541  technical                  IF '25 Data Science Cohort A › P2W8 (7/28 - 8/1) Introduction to Neural Networks › 💻 W8D1 (7/28) Dimensionality Reduction (Page) [https://tkh.instructure.com/courses/172/pages/w8d1-7-slash-28-dimensionality-reduction]\n",
      "                                                             What's the difference between an L1 and L2 penalty?       all      0.019      0.337  technical                                      IF '25 Data Science Cohort A › P2W2 (6/16-6/20) Introduction to Machine Learning › 📚 P2W2 Overview & Lesson Plan (Page) [https://tkh.instructure.com/courses/172/pages/p2w2-overview-and-lesson-plan]\n",
      "                                                                                Where can I find information on?       all      0.019      0.341  technical                                         IF '25 Data Science Cohort A › Fellow Resources › Culture Contract - Data Science (ExternalUrl) [https://docs.google.com/document/d/15_ibCpU7lgvMpRNtFh5In6fBgRj-7xGKh13-VJ_kJ6U/edit?usp=sharing]\n",
      "                                          So I want to know more about XGboost and its trade-offs with AdaBoost. technical      0.013      0.294  technical                      IF '25 Data Science Cohort A › P2W6 (7/14-7/18) Advanced Classification II › 💻 W6D3 (7/16) Bagging & Boosting Trees (Page) [https://tkh.instructure.com/courses/172/pages/w6d3-7-slash-16-bagging-and-boosting-trees]\n",
      "                                  Which slides describe the bias-variance trade-off (summary + cite both pages)? technical      0.035      0.367  technical                                                                                                                                  Foundations '25 Data Science › Week 5:  Statistics(Feb. 24th- Feb. 27th) › [TEX] Final Quiz  (Assignment)\n",
      "pls where did u all show that 'log loss' thing ??? and that \"slide w/ the blue curve comparing roc stuff—where?\" technical      0.025      0.378  technical                      IF '25 Data Science Cohort A › P2W6 (7/14-7/18) Advanced Classification II › 💻 W6D3 (7/16) Bagging & Boosting Trees (Page) [https://tkh.instructure.com/courses/172/pages/w6d3-7-slash-16-bagging-and-boosting-trees]\n",
      "                                                                               Can I see other students grades?? technical      0.026      0.348  technical                                             IF '25 Data Science Cohort A › P1W11 (4/28 - 5/23) End of Phase Project › 💻 W11D2 (5/20) Working Day II (Page) [https://tkh.instructure.com/courses/172/pages/w11d2-5-slash-20-working-day-ii]\n",
      "\n",
      " saved: C:\\Users\\oneps\\Documents\\Research_Dev_Documents\\DataEden_Github\\TEPP-2-SlideHunt-Repo\\SlideHunt\\outputs\\eval_prompts.csv\n",
      "\n",
      "Coverage: 100%   Avg top_score: 0.407\n",
      "By domain (top-1):\n",
      "top_domain\n",
      "technical    20\n",
      "Name: count, dtype: int64\n"
     ]
    }
   ],
   "source": [
    "# Evaluate prompts with auto-routing and top-1 citation\n",
    "import time, pandas as pd\n",
    "\n",
    "\n",
    "# Evaluate a lis of test queries againts the search() retriever\n",
    "def evaluate_prompts(prompts, k=4, scope=\"auto\", save_csv=True):\n",
    "    rows = []\n",
    "    for q in prompts:\n",
    "        t0 = time.time()                         # starts the timer\n",
    "        sc, hits = search(q, k=k, scope=scope)   # uses search() function with router\n",
    "        dt = time.time() - t0 # seconds\n",
    "\n",
    "        if hits:                            # if search returned results\n",
    "            h0 = hits[0]                    # take the top result\n",
    "            m = h0[\"meta\"]                  # metadata for the top result\n",
    "            # Build a human-readable citation string\n",
    "            cite = f\"{m['course_name']} › {m['module_name']} › {m['item_title']} ({m['type']})\"\n",
    "            if m.get('url'): cite += f\" [{m['url']}]\"\n",
    "            rows.append({\n",
    "                \"query\": q,\n",
    "                \"scope\": sc,                # which domain the router chose (career/technical)\n",
    "                \"latency_s\": round(dt, 3),  # search time\n",
    "                \"top_score\": round(h0[\"score\"], 3), #similarity score of top hit\n",
    "                \"top_domain\": m.get(\"domain\"),      # domain label from metadata\n",
    "                \"citation\": cite                    # readable reference for top hit\n",
    "            })\n",
    "        else:  # no hits found\n",
    "            rows.append({\n",
    "                \"query\": q, \"scope\": sc, \"latency_s\": round(dt, 3),\n",
    "                \"top_score\": None, \"top_domain\": None, \"citation\": \"(no hits)\"\n",
    "            })\n",
    "    # convert results to Dataframe for an easy display and saving\n",
    "    df = pd.DataFrame(rows)\n",
    "\n",
    "    # pretty print the DF\n",
    "    with pd.option_context(\"display.max_colwidth\", 80, \"display.width\", 120):\n",
    "        print(df.to_string(index=False))\n",
    "\n",
    "    if save_csv:\n",
    "        # save results as a CSV inside a folder\n",
    "        outdir = os.path.join(BASE, \"outputs\")\n",
    "        os.makedirs(outdir, exist_ok=True)\n",
    "        path = os.path.join(outdir, \"eval_prompts.csv\")\n",
    "        df.to_csv(path, index=False)\n",
    "        print(\"\\n saved:\", path)\n",
    "\n",
    "    # quick summary\n",
    "    coverage = (df[\"citation\"] != \"(no hits)\").mean()\n",
    "    avg_score = df[\"top_score\"].dropna().mean() if df[\"top_score\"].notna().any() else None\n",
    "    print(f\"\\nCoverage: {coverage:.0%}   Avg top_score: {None if avg_score is None else round(avg_score,3)}\")\n",
    "    print(\"By domain (top-1):\")\n",
    "    print(df[\"top_domain\"].value_counts(dropna=True))\n",
    "\n",
    "    return df\n",
    "\n",
    "# run on our test_prompts evaluation\n",
    "_ = evaluate_prompts(test_prompts, k=4, scope=\"auto\", save_csv=True)\n"
   ]
  }
 ],
 "metadata": {
  "kernelspec": {
   "display_name": "ds",
   "language": "python",
   "name": "python3"
  },
  "language_info": {
   "codemirror_mode": {
    "name": "ipython",
    "version": 3
   },
   "file_extension": ".py",
   "mimetype": "text/x-python",
   "name": "python",
   "nbconvert_exporter": "python",
   "pygments_lexer": "ipython3",
   "version": "3.12.9"
  }
 },
 "nbformat": 4,
 "nbformat_minor": 5
}

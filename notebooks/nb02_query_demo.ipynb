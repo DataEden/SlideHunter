{
 "cells": [
  {
   "cell_type": "markdown",
   "id": "a1600dd2",
   "metadata": {},
   "source": [
    "# 02 — Query Demo (Answer from Context + Citations)\n",
    "Ask a question like 'Where did we define precision vs. recall?' and get (deck, page) cites.\n",
    "\n",
    "## Load store & model (auto-CUDA on Deck)"
   ]
  },
  {
   "cell_type": "code",
   "execution_count": 1,
   "id": "548942b7",
   "metadata": {},
   "outputs": [],
   "source": [
    "import os\n",
    "\n",
    "# Tell Hugging Face to skip TensorFlow/Flax so they never import TensorFlow (TF).\n",
    "os.environ[\"TRANSFORMERS_NO_TF\"] = \"1\"\n",
    "os.environ[\"TRANSFORMERS_NO_FLAX\"] = \"1\"\n",
    "\n",
    "# Quiet TF logs if something still pulls it in.\n",
    "os.environ[\"TF_CPP_MIN_LOG_LEVEL\"] = \"2\"  # 1=INFO, 2=WARNING, 3=ERROR\n"
   ]
  },
  {
   "cell_type": "markdown",
   "id": "612e86ac",
   "metadata": {},
   "source": [
    "## Search function\n",
    "\n",
    "# Ipmorts"
   ]
  },
  {
   "cell_type": "code",
   "execution_count": 15,
   "id": "70b8e75d",
   "metadata": {},
   "outputs": [],
   "source": [
    "\n",
    "from pathlib import Path\n",
    "import os, sys, json, faiss \n",
    "from nb01_setup_and_ingest import *\n"
   ]
  },
  {
   "cell_type": "code",
   "execution_count": 16,
   "id": "a2ede2f4",
   "metadata": {},
   "outputs": [
    {
     "name": "stdout",
     "output_type": "stream",
     "text": [
      "CWD: c:\\Users\\oneps\\Documents\\Research_Dev_Documents\\DataEden_Github\\TEPP-2-SlideHunt-Repo\\SlideHunt\\notebooks\n",
      "Reading: C:\\Users\\oneps\\Documents\\Research_Dev_Documents\\DataEden_Github\\TEPP-2-SlideHunt-Repo\\SlideHunt\\data\\faiss\\canvas.index\n",
      "Reading: C:\\Users\\oneps\\Documents\\Research_Dev_Documents\\DataEden_Github\\TEPP-2-SlideHunt-Repo\\SlideHunt\\data\\faiss\\facts.json\n",
      "Loaded: 323 facts\n"
     ]
    }
   ],
   "source": [
    "# Point this ONCE to your repo root (hardcode or env var)\n",
    "BASE = Path(os.getenv(\"SLIDEHUNTER_BASE\", r\"C:\\path\\to\\SLIDEHUNTER\")).resolve()\n",
    "\n",
    "INDEX_PATH = BASE / \"data\" / \"faiss\" / \"canvas.index\"\n",
    "FACTS_PATH = BASE / \"data\" / \"faiss\" / \"facts.json\"\n",
    "\n",
    "print(\"CWD:\", Path.cwd())\n",
    "print(\"Reading:\", INDEX_PATH)\n",
    "print(\"Reading:\", FACTS_PATH)\n",
    "\n",
    "# Load FAISS index (can't use open(); use faiss helper)\n",
    "#index = faiss.read_index(str(INDEX_PATH))\n",
    "\n",
    "# Load facts/metas with plain open()\n",
    "with open(FACTS_PATH, \"r\", encoding=\"utf-8\") as f:\n",
    "    data = json.load(f)\n",
    "facts, metas = data[\"facts\"], data[\"metas\"]\n",
    "\n",
    "print(\"Loaded:\", len(facts), \"facts\")\n"
   ]
  }
 ],
 "metadata": {
  "kernelspec": {
   "display_name": "ds",
   "language": "python",
   "name": "python3"
  },
  "language_info": {
   "codemirror_mode": {
    "name": "ipython",
    "version": 3
   },
   "file_extension": ".py",
   "mimetype": "text/x-python",
   "name": "python",
   "nbconvert_exporter": "python",
   "pygments_lexer": "ipython3",
   "version": "3.12.9"
  }
 },
 "nbformat": 4,
 "nbformat_minor": 5
}

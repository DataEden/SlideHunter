{
 "cells": [
  {
   "cell_type": "markdown",
   "id": "45a6b1a4",
   "metadata": {},
   "source": [
    "<p align=\"center\">\n",
    "  <img src=\"images/SlideHunter_LogoV2.png\" alt=\"SlideHunter-App Flow Diagram\", width=\"70%\">\n",
    "  <br/>\n",
    "  <em>Ask a question like 'Where did we define precision vs. recall?' and get (deck, page) cites.</em>\n",
    "</p>\n",
    "\n",
    "<div style=\"border: 2px solid #ccc; border-radius: 12px; padding: 20px; max-width: 550px; margin: auto; background-color: #1e1e1e; color: #f0f0f0; font-family: Arial, sans-serif; line-height: 1.6;\">\n",
    "\n",
    "  <div style=\"text-align: center; margin-bottom: 20px;\">\n",
    "    <img src=\"..\\images\\SlideHunter_LogoV2.png\" \n",
    "         alt=\"Coffee Production Boxplot by Subdivision\"\n",
    "         style=\"width: 60%; max-width: 60%; height: auto; border-radius: 8px; box-shadow: 0 0 10px rgba(0,0,0,0.4);\">\n",
    "  </div>\n",
    "\n",
    "  <blockquote style=\"margin: 0; padding: 10px 20px; border-left: 4px solid #4faaff;\">\n",
    "    <p><strong>\n",
    "      SlideHunter App Logo😁\n",
    "    </strong></p>\n",
    "    <p>\n",
    "     User Interface (UI) : \n",
    "      <a href=\"..\\images\\SlideHunter_LogoV2.png\" target=\"_blank\" style=\"color: #4faaff;\">\n",
    "        Find exactly where a topic was covered in course materials. Fast answers with precise slide/page citations.\n",
    "      </a>\n",
    "    </p>\n",
    "  </blockquote>\n",
    "\n",
    "</div>"
   ]
  },
  {
   "cell_type": "markdown",
   "id": "a1600dd2",
   "metadata": {},
   "source": [
    "# 02 — Query Demo (Answer from Context + Citations)\n",
    "Ask a question like 'Where did we define precision vs. recall?' and get (deck, page) cites.\n",
    "\n",
    "## Load store & model (auto-CUDA on Deck)"
   ]
  },
  {
   "cell_type": "code",
<<<<<<< HEAD
   "execution_count": 29,
=======
   "execution_count": 1,
>>>>>>> f507b1b (updated logo, flowchart, and notebooks)
   "id": "548942b7",
   "metadata": {},
   "outputs": [],
   "source": [
    "import os\n",
    "\n",
    "# Tell Hugging Face to skip TensorFlow/Flax so they never import TensorFlow (TF).\n",
    "os.environ[\"TRANSFORMERS_NO_TF\"] = \"1\"\n",
    "os.environ[\"TRANSFORMERS_NO_FLAX\"] = \"1\"\n",
    "\n",
    "# Quiet TF logs if something still pulls it in.\n",
    "os.environ[\"TF_CPP_MIN_LOG_LEVEL\"] = \"2\"  # 1=INFO, 2=WARNING, 3=ERROR\n"
   ]
  },
  {
   "cell_type": "markdown",
   "id": "612e86ac",
   "metadata": {},
   "source": [
    "# Ipmorts"
   ]
  },
  {
   "cell_type": "code",
<<<<<<< HEAD
   "execution_count": 30,
   "id": "03bbfb5e",
   "metadata": {},
   "outputs": [],
=======
   "execution_count": 2,
   "id": "03bbfb5e",
   "metadata": {},
   "outputs": [
    {
     "name": "stdout",
     "output_type": "stream",
     "text": [
      "WARNING:tensorflow:From c:\\Users\\oneps\\anaconda3\\envs\\ds\\Lib\\site-packages\\tf_keras\\src\\losses.py:2976: The name tf.losses.sparse_softmax_cross_entropy is deprecated. Please use tf.compat.v1.losses.sparse_softmax_cross_entropy instead.\n",
      "\n",
      "Foundations '25 Data Science\n",
      "Foundations Course\n",
      "IF '25 Data Science Cohort A\n",
      "IF '25 NY Career Readiness and Success\n",
      "  Module_id: 1118\n",
      "  Module: Fellow Resources\n",
      " - Item: Fellow Success Resources (Page)\n",
      "  Module_id: 1239\n",
      "  Module: Phase 2 (6/9-8/29)\n",
      " - Item: Homework: Option 1 - Weekly Job Applications & Progress Report (Due August 30) (Assignment)\n",
      " - Item: P2W1 (6/12) NO CAREER CLASS - TECHNICAL CLASS (SubHeader)\n",
      " - Item: P2W2 (6/16) Bloomberg Ideathon (SubHeader)\n",
      " - Item: Homework (SubHeader)\n",
      " - Item: Homework: Watch Hackathon Video (Assignment)\n",
      " - Item: Homework: Upwardly Global Learning Paths: Tech Market/Resume/Cover Letter (Assignment)\n",
      " - Item: Homework: Draft Resume (Assignment)\n",
      " - Item: P2W2 NO CLASS MEETING 6/19 Juneteenth TKH Closed (SubHeader)\n",
      " - Item: P2W3 (6/26) Bloomberg Hackathon (SubHeader)\n",
      " - Item: Homework (SubHeader)\n",
      " - Item: Homework: Hackathon Activity Log + Judges' Feedback (Assignment)\n",
      " - Item: P2W4 (7/3) Resume + Digital Footprint (SubHeader)\n",
      " - Item: In Class Activity (SubHeader)\n",
      " - Item: In-Class Activity: Updated Resume (Assignment)\n",
      " - Item: Homework (SubHeader)\n",
      " - Item: Homework: Upwardly Global Learning Path: Marketing Yourself (Assignment)\n",
      " - Item: Homework: LinkedIn Profile (Assignment)\n",
      " - Item: Grades due by 7/7 [note for staff] (SubHeader)\n",
      " - Item:  P2W5 (7/10) Elevator Pitch + \"Tell Me About Yourself\" (SubHeader)\n",
      " - Item: Homework (SubHeader)\n",
      " - Item: Homework: Elevator Pitch Video (Assignment)\n",
      " - Item: Homework: Upwardly Global Learning Path: Networking (Assignment)\n",
      " - Item: P2W6 (7/17) Company Exposure (SubHeader)\n",
      " - Item: P2W7 (7/24) Career Exploration + Job Search (SubHeader)\n",
      " - Item: In Class Activity (SubHeader)\n",
      " - Item: In-Class Activity: Career Plan (Assignment)\n",
      " - Item: Homework (SubHeader)\n",
      " - Item: Homework: Weekly Job Applications & Networking (Due July 26) (Assignment)\n",
      " - Item: Prepare for next week's speed networking session. (SubHeader)\n",
      " - Item:  P2W8 (7/31) Speed Networking (SubHeader)\n",
      " - Item: Homework (SubHeader)\n",
      " - Item: (OPTIONAL) Homework: Weekly Job Applications & Networking (Due August 2) (Assignment)\n",
      " - Item: Homework: Upwardly Global Learning Path: Interview (Assignment)\n",
      " - Item: Grades due by 8/4 [note for staff] (SubHeader)\n",
      " - Item: P2W9 (8/7) SWOT + Confidence Gap (SubHeader)\n",
      " - Item: Career Class Option Selection (Due August 9) (Quiz)\n",
      " - Item: In Class Activity (SubHeader)\n",
      " - Item: Homework (SubHeader)\n",
      " - Item: P2W10 (8/14) Applications Questions + Behavioral Interviews (SubHeader)\n",
      " - Item: In Class Activity (SubHeader)\n",
      " - Item: In-Class Activity: Application Questions (Assignment)\n",
      " - Item: Homework (SubHeader)\n",
      " - Item: Homework: Option 1 - Weekly Job Applications & Progress Report (Due August 23) (Assignment)\n",
      " - Item: Prepare for mock behavioral interviews that will take place next week. (SubHeader)\n",
      " - Item: P2W11 (8/21) Behavioral Mock Interviews (SubHeader)\n",
      " - Item: Homework (SubHeader)\n",
      " - Item: Homework: Option 1 - Weekly Job Applications & Progress Report (Due August 30) (Assignment)\n",
      " - Item: P2W12 (8/28) Portfolio Storytelling (Last Week of Phase 2) (SubHeader)\n",
      " - Item: Homework (SubHeader)\n",
      " - Item: Homework: Portfolio (Assignment)\n",
      " - Item: Grades due by 9/2 [note for staff] (SubHeader)\n",
      "  Module_id: 1222\n",
      "  Module: Monthly Program Satisfaction Surveys\n",
      " - Item: March Program Satisfaction (Assignment)\n",
      " - Item: April Program Satisfaction  (Assignment)\n",
      " - Item: May Program Satisfaction (Assignment)\n",
      " - Item: June Program Satisfaction  (Assignment)\n",
      " - Item: July Program Satisfaction (Assignment)\n",
      " - Item: August Program Satisfaction  (Assignment)\n",
      " - Item: September Program Satisfaction (Assignment)\n",
      " - Item: October Program Satisfaction  (Assignment)\n",
      " - Item: November Program Satisfaction  (Assignment)\n",
      "Selected courses: [\"Foundations '25 Data Science\", 'Foundations Course', \"IF '25 Data Science Cohort A\", \"IF '25 NY Career Readiness and Success\"]\n",
      "Built 323 facts\n",
      "model device: cpu\n"
     ]
    },
    {
     "data": {
      "application/vnd.jupyter.widget-view+json": {
       "model_id": "18c929049542416fadec29564e678d83",
       "version_major": 2,
       "version_minor": 0
      },
      "text/plain": [
       "Batches:   0%|          | 0/6 [00:00<?, ?it/s]"
      ]
     },
     "metadata": {},
     "output_type": "display_data"
    },
    {
     "name": "stdout",
     "output_type": "stream",
     "text": [
      "FAISS ntotal: 323\n",
      "\n",
      "Q: Where did we define precision vs. recall?   [scope=technical]\n",
      "  0.382 :: IF '25 Data Science Cohort A > P2W3 (6/23-6/27) Classification Algorithms > 💻 W3D2 (6/24) Logistic Regression Accuracy Metrics (Page)  [https://tkh.instructure.com/courses/172/pages/w3d2-6-slash-24-logistic-regression-accuracy-metrics]\n",
      "  0.306 :: Foundations '25 Data Science > Week 5:  Statistics(Feb. 24th- Feb. 27th) > What is Data Science? (Page)  [https://tkh.instructure.com/courses/165/pages/what-is-data-science]\n",
      "  0.276 :: IF '25 Data Science Cohort A > P2W11 (8/18-8/22) Agents & End of Phase Project > 💻 W11D1 (8/18) Applied LLM Review & AI Agents (Page)  [https://tkh.instructure.com/courses/172/pages/w11d1-8-slash-18-applied-llm-review-and-ai-agents]\n",
      "  0.263 :: IF '25 Data Science Cohort A > P2W9 (8/4-8/8) NLP Foundations & Transformers > 📚 P2W9 Overview & Lesson Plan (Page)  [https://tkh.instructure.com/courses/172/pages/p2w9-overview-and-lesson-plan]\n",
      "\n",
      "Q: tips for a resume and cover letter?   [scope=career]\n",
      "  0.443 :: IF '25 NY Career Readiness and Success > Phase 2 (6/9-8/29) > Homework: Upwardly Global Learning Paths: Tech Market/Resume/Cover Letter (Assignment)\n",
      "  0.426 :: IF '25 NY Career Readiness and Success > Phase 2 (6/9-8/29) > Homework: Draft Resume (Assignment)\n",
      "  0.368 :: IF '25 NY Career Readiness and Success > Phase 2 (6/9-8/29) > Homework: LinkedIn Profile (Assignment)\n",
      "  0.354 :: IF '25 NY Career Readiness and Success > Phase 2 (6/9-8/29) > Homework: Upwardly Global Learning Path: Marketing Yourself (Assignment)\n",
      "\n",
      "Q: What lecture slides did we learn about control flow?   [scope=technical]\n",
      "  0.389 :: Foundations Course > Week 1: Foundations For Success (Jan. 27th-Jan. 30th) > W1D2: Learning How to Learn (Page)  [https://tkh.instructure.com/courses/162/pages/w1d2-learning-how-to-learn]\n",
      "  0.350 :: Foundations Course > Week 2: Charting Your Path (Feb. 3rd- Feb 6th) > W2D3: Track Exploration (Track Mini Lessons Continued) (Page)  [https://tkh.instructure.com/courses/162/pages/w2d3-track-exploration-track-mini-lessons-continued]\n",
      "  0.348 :: Foundations Course > Week 3: Tech Essentials (Feb. 10th- Feb 13th) > Week 3 Overview  (Page)  [https://tkh.instructure.com/courses/162/pages/week-3-overview]\n",
      "  0.339 :: Foundations Course > Week 2: Charting Your Path (Feb. 3rd- Feb 6th) > W2D2: Track Exploration (Track Mini Lessons)  (Page)  [https://tkh.instructure.com/courses/162/pages/w2d2-track-exploration-track-mini-lessons]\n",
      "saved: C:\\Users\\oneps\\Documents\\Research_Dev_Documents\\DataEden_Github\\TEPP-2-SlideHunt-Repo\\SlideHunt\\data\\faiss\\canvas.index\n",
      "saved: C:\\Users\\oneps\\Documents\\Research_Dev_Documents\\DataEden_Github\\TEPP-2-SlideHunt-Repo\\SlideHunt\\data\\faiss\\facts.json\n"
     ]
    }
   ],
>>>>>>> f507b1b (updated logo, flowchart, and notebooks)
   "source": [
    "# imports\n",
    "import os, sys, json\n",
    "from pathlib import Path\n",
    "\n",
    "# If the notebook is inside .../SlideHunt/notebooks, step up to the repo root\n",
    "repo_root = Path.cwd().parent if Path.cwd().name.lower() == \"notebooks\" else Path.cwd()\n",
    "sys.path.insert(0, str(repo_root))  # make repo root's importable\n",
    "\n",
    "from nb01_setup_and_ingest import search  "
   ]
  },
  {
   "cell_type": "code",
<<<<<<< HEAD
   "execution_count": null,
=======
   "execution_count": 4,
>>>>>>> f507b1b (updated logo, flowchart, and notebooks)
   "id": "a2ede2f4",
   "metadata": {},
   "outputs": [
    {
     "name": "stdout",
     "output_type": "stream",
     "text": [
      "CWD: c:\\Users\\MINA-G\\SlideHunter\\notebooks\n",
      "Reading: C:\\Users\\MINA-G\\SlideHunter\\data\\faiss\\canvas.index\n",
      "Reading: C:\\Users\\MINA-G\\SlideHunter\\data\\faiss\\facts.json\n",
      "Loaded: 324 facts\n"
     ]
    }
   ],
   "source": [
    "# Point this ONCE to the repo root (hardcode or env var)\n",
    "BASE = Path(os.getenv(\"SLIDEHUNT\", r\"C:\\Users\\oneps\\Documents\\Research_Dev_Documents\\DataEden_Github\\TEPP-2-SlideHunt-Repo\\SlideHunt\")).resolve()\n",
    "\n",
    "INDEX_PATH = BASE / \"data\" / \"faiss\" / \"canvas.index\"\n",
    "FACTS_PATH = BASE / \"data\" / \"faiss\" / \"facts.json\"\n",
    "\n",
    "print(\"CWD:\", Path.cwd())\n",
    "print(\"Reading:\", INDEX_PATH)\n",
    "print(\"Reading:\", FACTS_PATH)\n",
    "\n",
    "# Load FAISS index (can't use open(); use faiss helper)\n",
    "#index = faiss.read_index(str(INDEX_PATH))\n",
    "\n",
    "# Load facts/metas with plain open()\n",
    "with open(FACTS_PATH, \"r\", encoding=\"utf-8\") as file:\n",
    "    data = json.load(file)\n",
    "facts, metas = data[\"facts\"], data[\"metas\"]\n",
    "\n",
    "print(\"Loaded:\", len(facts), \"facts\")\n"
   ]
  },
  {
   "cell_type": "code",
<<<<<<< HEAD
   "execution_count": 33,
=======
   "execution_count": 5,
>>>>>>> f507b1b (updated logo, flowchart, and notebooks)
   "id": "e76fabb5",
   "metadata": {},
   "outputs": [
    {
     "name": "stdout",
     "output_type": "stream",
     "text": [
      "\n",
      "Q: Where did we define precision vs. recall?   [scope=technical]\n",
      "  0.382 :: IF '25 Data Science Cohort A > P2W3 (6/23-6/27) Classification Algorithms > 💻 W3D2 (6/24) Logistic Regression Accuracy Metrics (Page)  [https://tkh.instructure.com/courses/172/pages/w3d2-6-slash-24-logistic-regression-accuracy-metrics]\n",
      "  0.306 :: Foundations '25 Data Science > Week 5:  Statistics(Feb. 24th- Feb. 27th) > What is Data Science? (Page)  [https://tkh.instructure.com/courses/165/pages/what-is-data-science]\n",
      "  0.276 :: IF '25 Data Science Cohort A > P2W11 (8/18-8/22) Agents & End of Phase Project > 💻 W11D1 (8/18) Applied LLM Review & AI Agents (Page)  [https://tkh.instructure.com/courses/172/pages/w11d1-8-slash-18-applied-llm-review-and-ai-agents]\n",
      "  0.263 :: IF '25 Data Science Cohort A > P2W9 (8/4-8/8) NLP Foundations & Transformers > 📚 P2W9 Overview & Lesson Plan (Page)  [https://tkh.instructure.com/courses/172/pages/p2w9-overview-and-lesson-plan]\n",
      "\n",
      "Q: tips for a resume and cover letter?   [scope=career]\n",
      "  0.443 :: IF '25 NY Career Readiness and Success > Phase 2 (6/9-8/29) > Homework: Upwardly Global Learning Paths: Tech Market/Resume/Cover Letter (Assignment)\n",
      "  0.426 :: IF '25 NY Career Readiness and Success > Phase 2 (6/9-8/29) > Homework: Draft Resume (Assignment)\n",
      "  0.368 :: IF '25 NY Career Readiness and Success > Phase 2 (6/9-8/29) > Homework: LinkedIn Profile (Assignment)\n",
      "  0.354 :: IF '25 NY Career Readiness and Success > Phase 2 (6/9-8/29) > Homework: Upwardly Global Learning Path: Marketing Yourself (Assignment)\n",
      "\n",
      "Q: What lecture slides did we learn about control flow?   [scope=technical]\n",
      "  0.389 :: Foundations Course > Week 1: Foundations For Success (Jan. 27th-Jan. 30th) > W1D2: Learning How to Learn (Page)  [https://tkh.instructure.com/courses/162/pages/w1d2-learning-how-to-learn]\n",
      "  0.350 :: Foundations Course > Week 2: Charting Your Path (Feb. 3rd- Feb 6th) > W2D3: Track Exploration (Track Mini Lessons Continued) (Page)  [https://tkh.instructure.com/courses/162/pages/w2d3-track-exploration-track-mini-lessons-continued]\n",
      "  0.348 :: Foundations Course > Week 3: Tech Essentials (Feb. 10th- Feb 13th) > Week 3 Overview  (Page)  [https://tkh.instructure.com/courses/162/pages/week-3-overview]\n",
      "  0.339 :: Foundations Course > Week 2: Charting Your Path (Feb. 3rd- Feb 6th) > W2D2: Track Exploration (Track Mini Lessons)  (Page)  [https://tkh.instructure.com/courses/162/pages/w2d2-track-exploration-track-mini-lessons]\n"
     ]
    }
   ],
   "source": [
    "# 7) Try it out with some pre-test test-prompts\n",
    "tests = [\n",
    "    \"Where did we define precision vs. recall?\",\n",
    "    \"tips for a resume and cover letter?\",\n",
    "    \"What lecture slides did we learn about control flow?\",\n",
    "  ]\n",
    "for q in tests:\n",
    "    scope, hits = search(q, k=4, scope=\"auto\")\n",
    "    print(f\"\\nQ: {q}   [scope={scope}]\")\n",
    "    if not hits: print(\"  (no hits)\"); continue\n",
    "    for h in hits:\n",
    "        m = h[\"meta\"]\n",
    "        cite = f\"{m['course_name']} > {m['module_name']} > {m['item_title']} ({m['type']})\"\n",
    "        if m.get(\"url\"): cite += f\"  [{m['url']}]\"\n",
    "        print(f\"  {h['score']:.3f} :: {cite}\")\n"
   ]
  }
 ],
 "metadata": {
  "kernelspec": {
   "display_name": "ds",
   "language": "python",
   "name": "python3"
  },
  "language_info": {
   "codemirror_mode": {
    "name": "ipython",
    "version": 3
   },
   "file_extension": ".py",
   "mimetype": "text/x-python",
   "name": "python",
   "nbconvert_exporter": "python",
   "pygments_lexer": "ipython3",
   "version": "3.12.9"
  }
 },
 "nbformat": 4,
 "nbformat_minor": 5
}

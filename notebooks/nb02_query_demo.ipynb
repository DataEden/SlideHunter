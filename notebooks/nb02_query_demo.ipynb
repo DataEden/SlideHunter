{
 "cells": [
  {
   "cell_type": "markdown",
   "id": "a1600dd2",
   "metadata": {},
   "source": [
    "# 02 — Query Demo (Answer from Context + Citations)\n",
    "Ask a question like 'Where did we define precision vs. recall?' and get (deck, page) cites.\n",
    "\n",
    "## Load store & model (auto-CUDA on Deck)"
   ]
  },
  {
   "cell_type": "code",
   "execution_count": 29,
   "id": "548942b7",
   "metadata": {},
   "outputs": [],
   "source": [
    "import os\n",
    "\n",
    "# Tell Hugging Face to skip TensorFlow/Flax so they never import TensorFlow (TF).\n",
    "os.environ[\"TRANSFORMERS_NO_TF\"] = \"1\"\n",
    "os.environ[\"TRANSFORMERS_NO_FLAX\"] = \"1\"\n",
    "\n",
    "# Quiet TF logs if something still pulls it in.\n",
    "os.environ[\"TF_CPP_MIN_LOG_LEVEL\"] = \"2\"  # 1=INFO, 2=WARNING, 3=ERROR\n"
   ]
  },
  {
   "cell_type": "markdown",
   "id": "612e86ac",
   "metadata": {},
   "source": [
    "# Ipmorts"
   ]
  },
  {
   "cell_type": "code",
   "execution_count": 30,
   "id": "03bbfb5e",
   "metadata": {},
   "outputs": [],
   "source": [
    "# imports\n",
    "import os, sys, json\n",
    "from pathlib import Path\n",
    "\n",
    "# If the notebook is inside .../SlideHunt/notebooks, step up to the repo root\n",
    "repo_root = Path.cwd().parent if Path.cwd().name.lower() == \"notebooks\" else Path.cwd()\n",
    "sys.path.insert(0, str(repo_root))  # make repo root's importable\n",
    "\n",
    "from nb01_setup_and_ingest import search  "
   ]
  },
  {
   "cell_type": "code",
   "execution_count": null,
   "id": "a2ede2f4",
   "metadata": {},
   "outputs": [
    {
     "name": "stdout",
     "output_type": "stream",
     "text": [
      "CWD: c:\\Users\\MINA-G\\SlideHunter\\notebooks\n",
      "Reading: C:\\Users\\MINA-G\\SlideHunter\\data\\faiss\\canvas.index\n",
      "Reading: C:\\Users\\MINA-G\\SlideHunter\\data\\faiss\\facts.json\n",
      "Loaded: 324 facts\n"
     ]
    }
   ],
   "source": [
    "# Point this ONCE to the repo root (hardcode or env var)\n",
    "BASE = Path(os.getenv(\"SLIDEHUNT\", r\"C:\\place path\\to the repo here\")).resolve()\n",
    "\n",
    "INDEX_PATH = BASE / \"data\" / \"faiss\" / \"canvas.index\"\n",
    "FACTS_PATH = BASE / \"data\" / \"faiss\" / \"facts.json\"\n",
    "\n",
    "print(\"CWD:\", Path.cwd())\n",
    "print(\"Reading:\", INDEX_PATH)\n",
    "print(\"Reading:\", FACTS_PATH)\n",
    "\n",
    "# Load FAISS index (can't use open(); use faiss helper)\n",
    "#index = faiss.read_index(str(INDEX_PATH))\n",
    "\n",
    "# Load facts/metas with plain open()\n",
    "with open(FACTS_PATH, \"r\", encoding=\"utf-8\") as file:\n",
    "    data = json.load(file)\n",
    "facts, metas = data[\"facts\"], data[\"metas\"]\n",
    "\n",
    "print(\"Loaded:\", len(facts), \"facts\")\n"
   ]
  },
  {
   "cell_type": "code",
   "execution_count": 33,
   "id": "e76fabb5",
   "metadata": {},
   "outputs": [
    {
     "name": "stdout",
     "output_type": "stream",
     "text": [
      "\n",
      "Q: Where did we define precision vs. recall?   [scope=technical]\n",
      "  0.382 :: IF '25 Data Science Cohort A > P2W3 (6/23-6/27) Classification Algorithms > 💻 W3D2 (6/24) Logistic Regression Accuracy Metrics (Page)  [https://tkh.instructure.com/courses/172/pages/w3d2-6-slash-24-logistic-regression-accuracy-metrics]\n",
      "  0.306 :: Foundations '25 Data Science > Week 5:  Statistics(Feb. 24th- Feb. 27th) > What is Data Science? (Page)  [https://tkh.instructure.com/courses/165/pages/what-is-data-science]\n",
      "  0.276 :: IF '25 Data Science Cohort A > P2W11 (8/18-8/22) Agents & End of Phase Project > 💻 W11D1 (8/18) Applied LLM Review & AI Agents (Page)  [https://tkh.instructure.com/courses/172/pages/w11d1-8-slash-18-applied-llm-review-and-ai-agents]\n",
      "  0.263 :: IF '25 Data Science Cohort A > P2W9 (8/4-8/8) NLP Foundations & Transformers > 📚 P2W9 Overview & Lesson Plan (Page)  [https://tkh.instructure.com/courses/172/pages/p2w9-overview-and-lesson-plan]\n",
      "\n",
      "Q: tips for a resume and cover letter?   [scope=career]\n",
      "  0.443 :: IF '25 NY Career Readiness and Success > Phase 2 (6/9-8/29) > Homework: Upwardly Global Learning Paths: Tech Market/Resume/Cover Letter (Assignment)\n",
      "  0.426 :: IF '25 NY Career Readiness and Success > Phase 2 (6/9-8/29) > Homework: Draft Resume (Assignment)\n",
      "  0.368 :: IF '25 NY Career Readiness and Success > Phase 2 (6/9-8/29) > Homework: LinkedIn Profile (Assignment)\n",
      "  0.354 :: IF '25 NY Career Readiness and Success > Phase 2 (6/9-8/29) > Homework: Upwardly Global Learning Path: Marketing Yourself (Assignment)\n",
      "\n",
      "Q: What lecture slides did we learn about control flow?   [scope=technical]\n",
      "  0.389 :: Foundations Course > Week 1: Foundations For Success (Jan. 27th-Jan. 30th) > W1D2: Learning How to Learn (Page)  [https://tkh.instructure.com/courses/162/pages/w1d2-learning-how-to-learn]\n",
      "  0.350 :: Foundations Course > Week 2: Charting Your Path (Feb. 3rd- Feb 6th) > W2D3: Track Exploration (Track Mini Lessons Continued) (Page)  [https://tkh.instructure.com/courses/162/pages/w2d3-track-exploration-track-mini-lessons-continued]\n",
      "  0.348 :: Foundations Course > Week 3: Tech Essentials (Feb. 10th- Feb 13th) > Week 3 Overview  (Page)  [https://tkh.instructure.com/courses/162/pages/week-3-overview]\n",
      "  0.339 :: Foundations Course > Week 2: Charting Your Path (Feb. 3rd- Feb 6th) > W2D2: Track Exploration (Track Mini Lessons)  (Page)  [https://tkh.instructure.com/courses/162/pages/w2d2-track-exploration-track-mini-lessons]\n"
     ]
    }
   ],
   "source": [
    "# 7) Try it out with some pre-test test-prompts\n",
    "tests = [\n",
    "    \"Where did we define precision vs. recall?\",\n",
    "    \"tips for a resume and cover letter?\",\n",
    "    \"What lecture slides did we learn about control flow?\",\n",
    "  ]\n",
    "for q in tests:\n",
    "    scope, hits = search(q, k=4, scope=\"auto\")\n",
    "    print(f\"\\nQ: {q}   [scope={scope}]\")\n",
    "    if not hits: print(\"  (no hits)\"); continue\n",
    "    for h in hits:\n",
    "        m = h[\"meta\"]\n",
    "        cite = f\"{m['course_name']} > {m['module_name']} > {m['item_title']} ({m['type']})\"\n",
    "        if m.get(\"url\"): cite += f\"  [{m['url']}]\"\n",
    "        print(f\"  {h['score']:.3f} :: {cite}\")\n"
   ]
  }
 ],
 "metadata": {
  "kernelspec": {
   "display_name": "ds",
   "language": "python",
   "name": "python3"
  },
  "language_info": {
   "codemirror_mode": {
    "name": "ipython",
    "version": 3
   },
   "file_extension": ".py",
   "mimetype": "text/x-python",
   "name": "python",
   "nbconvert_exporter": "python",
   "pygments_lexer": "ipython3",
   "version": "3.12.9"
  }
 },
 "nbformat": 4,
 "nbformat_minor": 5
}

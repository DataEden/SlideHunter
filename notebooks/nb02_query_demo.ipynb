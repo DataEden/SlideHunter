{
 "cells": [
  {
   "cell_type": "markdown",
   "id": "45a6b1a4",
   "metadata": {},
   "source": [
    "<p align=\"center\">\n",
    "  <img src=\"images/SlideHunter_LogoV2.png\" alt=\"SlideHunter-App Flow Diagram\", width=\"70%\">\n",
    "  <br/>\n",
    "  <em>Ask a question like 'Where did we define precision vs. recall?' and get (deck, page) cites.</em>\n",
    "</p>\n",
    "\n",
    "<div style=\"border: 2px solid #ccc; border-radius: 12px; padding: 20px; max-width: 550px; margin: auto; background-color: #1e1e1e; color: #f0f0f0; font-family: Arial, sans-serif; line-height: 1.6;\">\n",
    "\n",
    "  <div style=\"text-align: center; margin-bottom: 20px;\">\n",
    "    <img src=\"..\\images\\SlideHunter_LogoV2.png\" \n",
    "         alt=\"Coffee Production Boxplot by Subdivision\"\n",
    "         style=\"width: 60%; max-width: 60%; height: auto; border-radius: 8px; box-shadow: 0 0 10px rgba(0,0,0,0.4);\">\n",
    "  </div>\n",
    "\n",
    "  <blockquote style=\"margin: 0; padding: 10px 20px; border-left: 4px solid #4faaff;\">\n",
    "    <p><strong>\n",
    "      SlideHunter App Logo😁\n",
    "    </strong></p>\n",
    "    <p>\n",
    "      SlideHunter — AI-Powered Lecture Navigator:\n",
    "      <a href=\"..\\images\\SlideHunter_LogoV2.png\" target=\"_blank\" style=\"color: #4faaff;\">\n",
    "        Find exactly where a concept lives in course slides and notes. Lightning-fast answers with pinpoint slide/page citations, powered by modern ML retrieval (FAISS + BM25 + reranker) and concise GPT-4o-mini summarization with google/flan-t5-base model as fallback.\n",
    "      </a>\n",
    "    </p>\n",
    "  </blockquote>\n",
    "\n",
    "</div>"
   ]
  },
  {
   "cell_type": "markdown",
   "id": "a1600dd2",
   "metadata": {},
   "source": [
    "# Query Demo (Answer from Context + Citations)\n",
    "- Ask a question like 'Where did we define precision vs. recall?' and get (deck, page) cites.\n",
    "\n",
    "## Load store & model (auto-CUDA on Deck)"
   ]
  },
  {
   "cell_type": "code",
   "execution_count": 20,
   "id": "548942b7",
   "metadata": {},
   "outputs": [],
   "source": [
    "import os\n",
    "\n",
    "# Tell Hugging Face to skip TensorFlow/Flax so they never import TensorFlow (TF).\n",
    "os.environ[\"TRANSFORMERS_NO_TF\"] = \"1\"\n",
    "os.environ[\"TRANSFORMERS_NO_FLAX\"] = \"1\"\n",
    "\n",
    "# Quiet TF logs if something still pulls it in.\n",
    "os.environ[\"TF_CPP_MIN_LOG_LEVEL\"] = \"2\"  # 1=INFO, 2=WARNING, 3=ERROR\n"
   ]
  },
  {
   "cell_type": "markdown",
   "id": "612e86ac",
   "metadata": {},
   "source": [
    "# Ipmorts"
   ]
  },
  {
   "cell_type": "code",
   "execution_count": 21,
   "id": "03bbfb5e",
   "metadata": {},
   "outputs": [],
   "source": [
    "# imports\n",
    "import os, sys, json, faiss\n",
    "from pathlib import Path\n",
    "\n",
    "# If the notebook is inside .../SlideHunt/notebooks, step up to the repo root\n",
    "repo_root = Path.cwd().parent if Path.cwd().name.lower() == \"notebooks\" else Path.cwd()\n",
    "sys.path.insert(0, str(repo_root))  # make repo root's importable\n",
    "\n",
    "from nb01_helper import search  \n"
   ]
  },
  {
   "cell_type": "code",
   "execution_count": 22,
   "id": "a2ede2f4",
   "metadata": {},
   "outputs": [
    {
     "name": "stdout",
     "output_type": "stream",
     "text": [
      "CWD: c:\\Users\\oneps\\Documents\\Research_Dev_Documents\\DataEden_Github\\TEPP-2-SlideHunt-Repo\\SlideHunt\\notebooks\n",
      "Reading: C:\\add path to\\slidehunt folder\\data\\faiss\\canvas.index\n",
      "Reading: C:\\add path to\\slidehunt folder\\data\\faiss\\facts.json\n"
     ]
    },
    {
     "ename": "RuntimeError",
     "evalue": "Error in __cdecl faiss::FileIOReader::FileIOReader(const char *) at D:\\a\\faiss-wheels\\faiss-wheels\\faiss\\faiss\\impl\\io.cpp:68: Error: 'f' failed: could not open C:\\add path to\\slidehunt folder\\data\\faiss\\canvas.index for reading: No such file or directory",
     "output_type": "error",
     "traceback": [
      "\u001b[1;31m---------------------------------------------------------------------------\u001b[0m",
      "\u001b[1;31mRuntimeError\u001b[0m                              Traceback (most recent call last)",
      "\u001b[1;32m~\\AppData\\Local\\Temp\\ipykernel_3920\\2024100485.py\u001b[0m in \u001b[0;36m?\u001b[1;34m()\u001b[0m\n\u001b[0;32m     11\u001b[0m \u001b[0mprint\u001b[0m\u001b[1;33m(\u001b[0m\u001b[1;34m\"Reading:\"\u001b[0m\u001b[1;33m,\u001b[0m \u001b[0mINDEX_PATH\u001b[0m\u001b[1;33m)\u001b[0m\u001b[1;33m\u001b[0m\u001b[1;33m\u001b[0m\u001b[0m\n\u001b[0;32m     12\u001b[0m \u001b[0mprint\u001b[0m\u001b[1;33m(\u001b[0m\u001b[1;34m\"Reading:\"\u001b[0m\u001b[1;33m,\u001b[0m \u001b[0mFACTS_PATH\u001b[0m\u001b[1;33m)\u001b[0m\u001b[1;33m\u001b[0m\u001b[1;33m\u001b[0m\u001b[0m\n\u001b[0;32m     13\u001b[0m \u001b[1;33m\u001b[0m\u001b[0m\n\u001b[0;32m     14\u001b[0m \u001b[1;31m# Load FAISS index\u001b[0m\u001b[1;33m\u001b[0m\u001b[1;33m\u001b[0m\u001b[0m\n\u001b[1;32m---> 15\u001b[1;33m \u001b[0mindex\u001b[0m \u001b[1;33m=\u001b[0m \u001b[0mfaiss\u001b[0m\u001b[1;33m.\u001b[0m\u001b[0mread_index\u001b[0m\u001b[1;33m(\u001b[0m\u001b[0mstr\u001b[0m\u001b[1;33m(\u001b[0m\u001b[0mINDEX_PATH\u001b[0m\u001b[1;33m)\u001b[0m\u001b[1;33m)\u001b[0m\u001b[1;33m\u001b[0m\u001b[1;33m\u001b[0m\u001b[0m\n\u001b[0m\u001b[0;32m     16\u001b[0m \u001b[1;33m\u001b[0m\u001b[0m\n\u001b[0;32m     17\u001b[0m \u001b[1;31m# Load facts/metas from JSON\u001b[0m\u001b[1;33m\u001b[0m\u001b[1;33m\u001b[0m\u001b[0m\n\u001b[0;32m     18\u001b[0m \u001b[1;32mwith\u001b[0m \u001b[0mopen\u001b[0m\u001b[1;33m(\u001b[0m\u001b[0mFACTS_PATH\u001b[0m\u001b[1;33m,\u001b[0m \u001b[1;34m\"r\"\u001b[0m\u001b[1;33m,\u001b[0m \u001b[0mencoding\u001b[0m\u001b[1;33m=\u001b[0m\u001b[1;34m\"utf-8\"\u001b[0m\u001b[1;33m)\u001b[0m \u001b[1;32mas\u001b[0m \u001b[0mfile\u001b[0m\u001b[1;33m:\u001b[0m\u001b[1;33m\u001b[0m\u001b[1;33m\u001b[0m\u001b[0m\n",
      "\u001b[1;32mc:\\Users\\oneps\\anaconda3\\envs\\ds\\Lib\\site-packages\\faiss\\swigfaiss_avx2.py\u001b[0m in \u001b[0;36m?\u001b[1;34m(*args)\u001b[0m\n\u001b[0;32m  11140\u001b[0m \u001b[1;32mdef\u001b[0m \u001b[0mread_index\u001b[0m\u001b[1;33m(\u001b[0m\u001b[1;33m*\u001b[0m\u001b[0margs\u001b[0m\u001b[1;33m)\u001b[0m\u001b[1;33m:\u001b[0m\u001b[1;33m\u001b[0m\u001b[1;33m\u001b[0m\u001b[0m\n\u001b[1;32m> 11141\u001b[1;33m     \u001b[1;32mreturn\u001b[0m \u001b[0m_swigfaiss_avx2\u001b[0m\u001b[1;33m.\u001b[0m\u001b[0mread_index\u001b[0m\u001b[1;33m(\u001b[0m\u001b[1;33m*\u001b[0m\u001b[0margs\u001b[0m\u001b[1;33m)\u001b[0m\u001b[1;33m\u001b[0m\u001b[1;33m\u001b[0m\u001b[0m\n\u001b[0m",
      "\u001b[1;31mRuntimeError\u001b[0m: Error in __cdecl faiss::FileIOReader::FileIOReader(const char *) at D:\\a\\faiss-wheels\\faiss-wheels\\faiss\\faiss\\impl\\io.cpp:68: Error: 'f' failed: could not open C:\\add path to\\slidehunt folder\\data\\faiss\\canvas.index for reading: No such file or directory"
     ]
    }
   ],
   "source": [
    "# Point this ONCE to the repo root (hardcode or env var)\n",
    "# Will use when serch() import from nb01_setuup_and_ingest is resolved\n",
    "BASE = Path(os.getenv(\"SLIDEHUNT\", r\"C:\\add path to\\slidehunt folder\")).resolve()\n",
    "\n",
    "# Paths under the repo\n",
    "INDEX_PATH = BASE / \"data\" / \"faiss\" / \"canvas.index\"\n",
    "FACTS_PATH = BASE / \"data\" / \"faiss\" / \"facts.json\"\n",
    "\n",
    "# Show paths\n",
    "print(\"CWD:\", Path.cwd())\n",
    "print(\"Reading:\", INDEX_PATH)\n",
    "print(\"Reading:\", FACTS_PATH)\n",
    "\n",
    "# Load FAISS index \n",
    "index = faiss.read_index(str(INDEX_PATH))\n",
    "\n",
    "# Load facts/metas from JSON\n",
    "with open(FACTS_PATH, \"r\", encoding=\"utf-8\") as file:\n",
    "    data = json.load(file)\n",
    "facts, metas = data[\"facts\"], data[\"metas\"]\n",
    "\n",
    "print(\"Loaded:\", len(facts), \"facts\")\n"
   ]
  },
  {
   "cell_type": "code",
   "execution_count": null,
   "id": "e76fabb5",
   "metadata": {},
   "outputs": [
    {
     "name": "stdout",
     "output_type": "stream",
     "text": [
      "\n",
      "Q: Where did we define precision vs. recall?   [scope=technical]\n",
      "  0.382 :: IF '25 Data Science Cohort A > P2W3 (6/23-6/27) Classification Algorithms > 💻 W3D2 (6/24) Logistic Regression Accuracy Metrics (Page)  [https://tkh.instructure.com/courses/172/pages/w3d2-6-slash-24-logistic-regression-accuracy-metrics]\n",
      "  0.306 :: Foundations '25 Data Science > Week 5:  Statistics(Feb. 24th- Feb. 27th) > What is Data Science? (Page)  [https://tkh.instructure.com/courses/165/pages/what-is-data-science]\n",
      "  0.276 :: IF '25 Data Science Cohort A > P2W11 (8/18-8/22) Agents & End of Phase Project > 💻 W11D1 (8/18) Applied LLM Review & AI Agents (Page)  [https://tkh.instructure.com/courses/172/pages/w11d1-8-slash-18-applied-llm-review-and-ai-agents]\n",
      "  0.263 :: IF '25 Data Science Cohort A > P2W9 (8/4-8/8) NLP Foundations & Transformers > 📚 P2W9 Overview & Lesson Plan (Page)  [https://tkh.instructure.com/courses/172/pages/p2w9-overview-and-lesson-plan]\n",
      "\n",
      "Q: tips for a resume and cover letter?   [scope=career]\n",
      "  0.443 :: IF '25 NY Career Readiness and Success > Phase 2 (6/9-8/29) > Homework: Upwardly Global Learning Paths: Tech Market/Resume/Cover Letter (Assignment)\n",
      "  0.426 :: IF '25 NY Career Readiness and Success > Phase 2 (6/9-8/29) > Homework: Draft Resume (Assignment)\n",
      "  0.368 :: IF '25 NY Career Readiness and Success > Phase 2 (6/9-8/29) > Homework: LinkedIn Profile (Assignment)\n",
      "  0.354 :: IF '25 NY Career Readiness and Success > Phase 2 (6/9-8/29) > Homework: Upwardly Global Learning Path: Marketing Yourself (Assignment)\n",
      "\n",
      "Q: What lecture slides did we learn about control flow?   [scope=technical]\n",
      "  0.389 :: Foundations Course > Week 1: Foundations For Success (Jan. 27th-Jan. 30th) > W1D2: Learning How to Learn (Page)  [https://tkh.instructure.com/courses/162/pages/w1d2-learning-how-to-learn]\n",
      "  0.350 :: Foundations Course > Week 2: Charting Your Path (Feb. 3rd- Feb 6th) > W2D3: Track Exploration (Track Mini Lessons Continued) (Page)  [https://tkh.instructure.com/courses/162/pages/w2d3-track-exploration-track-mini-lessons-continued]\n",
      "  0.348 :: Foundations Course > Week 3: Tech Essentials (Feb. 10th- Feb 13th) > Week 3 Overview  (Page)  [https://tkh.instructure.com/courses/162/pages/week-3-overview]\n",
      "  0.339 :: Foundations Course > Week 2: Charting Your Path (Feb. 3rd- Feb 6th) > W2D2: Track Exploration (Track Mini Lessons)  (Page)  [https://tkh.instructure.com/courses/162/pages/w2d2-track-exploration-track-mini-lessons]\n"
     ]
    }
   ],
   "source": [
    "# Try out with with three test-prompts\n",
    "tests = [\n",
    "    \"Where did we define precision vs. recall?\",\n",
    "    \"tips for a resume and cover letter?\",\n",
    "    \"What lecture slides did we learn about control flow?\",\n",
    "  ]\n",
    "# Run the tests\n",
    "for q in tests:\n",
    "    scope, hits = search(q, k=4, scope=\"auto\")\n",
    "    print(f\"\\nQ: {q}   [scope={scope}]\")\n",
    "    if not hits: print(\"  (no hits)\"); continue\n",
    "    for h in hits:\n",
    "        m = h[\"meta\"]\n",
    "        cite = f\"{m['course_name']} > {m['module_name']} > {m['item_title']} ({m['type']})\"\n",
    "        if m.get(\"url\"): cite += f\"  [{m['url']}]\"\n",
    "        print(f\"  {h['score']:.3f} :: {cite}\")\n"
   ]
  }
 ],
 "metadata": {
  "kernelspec": {
   "display_name": "ds",
   "language": "python",
   "name": "python3"
  },
  "language_info": {
   "codemirror_mode": {
    "name": "ipython",
    "version": 3
   },
   "file_extension": ".py",
   "mimetype": "text/x-python",
   "name": "python",
   "nbconvert_exporter": "python",
   "pygments_lexer": "ipython3",
   "version": "3.12.9"
  }
 },
 "nbformat": 4,
 "nbformat_minor": 5
}
